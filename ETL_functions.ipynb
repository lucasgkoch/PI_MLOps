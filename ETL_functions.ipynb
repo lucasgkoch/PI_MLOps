{
 "cells": [
  {
   "cell_type": "markdown",
   "metadata": {},
   "source": [
    "En este archivo se preparan datasets especificos para cada endpoint de nuestra api. Realizaremos aqui calculos y operaciones pesadas que puedan ralentizar nuestras consultas, y tambien nos ahorramos cargar datasets completos en nuestro servidor lo que podria llevar a una sobrecarga de memoria."
   ]
  },
  {
   "cell_type": "code",
   "execution_count": 1,
   "metadata": {},
   "outputs": [],
   "source": [
    "import pandas as pd\n"
   ]
  },
  {
   "cell_type": "markdown",
   "metadata": {},
   "source": [
    "Importamos los datasets generados en nuestras anteriores ETL"
   ]
  },
  {
   "cell_type": "code",
   "execution_count": 2,
   "metadata": {},
   "outputs": [],
   "source": [
    "df_games_complete=pd.read_parquet('processed_data/games.parquet')\n",
    "df_items_complete=pd.read_parquet('processed_data/items.parquet')\n",
    "df_reviews_complete=pd.read_parquet('processed_data/reviews.parquet')"
   ]
  },
  {
   "cell_type": "markdown",
   "metadata": {},
   "source": [
    "Preparacion de dataset para la funcion PlayTimeGenre"
   ]
  },
  {
   "cell_type": "code",
   "execution_count": 3,
   "metadata": {},
   "outputs": [],
   "source": [
    "#Se crean dataframes solo con las columnas que vamos a utilizar\n",
    "df_games=df_games_complete[['genres','release_year','id']]\n",
    "df_items=df_items_complete[['item_id','playtime_forever']]"
   ]
  },
  {
   "cell_type": "code",
   "execution_count": 5,
   "metadata": {},
   "outputs": [
    {
     "name": "stderr",
     "output_type": "stream",
     "text": [
      "C:\\Users\\PC\\AppData\\Local\\Temp\\ipykernel_5432\\2050125367.py:6: SettingWithCopyWarning: \n",
      "A value is trying to be set on a copy of a slice from a DataFrame.\n",
      "Try using .loc[row_indexer,col_indexer] = value instead\n",
      "\n",
      "See the caveats in the documentation: https://pandas.pydata.org/pandas-docs/stable/user_guide/indexing.html#returning-a-view-versus-a-copy\n",
      "  df_items['item_id'] = df_items['item_id'].astype(int)\n"
     ]
    }
   ],
   "source": [
    "#Se realiza un explode de los generos\n",
    "df_games=df_games.explode('genres',ignore_index=False,)\n",
    "\n",
    "#Se hace un join entre df_games y df_items usando 'id' y 'item_id'\n",
    "df_games['id'] = df_games['id'].astype(int)\n",
    "df_items['item_id'] = df_items['item_id'].astype(int)\n",
    "df_joined = pd.merge(df_games, df_items, left_on='id', right_on='item_id', how='inner')\n",
    "\n",
    "#Se agrupa por género y año, sumando las horas jugadas\n",
    "df_grouped = df_joined.groupby(['genres', 'release_year'])['playtime_forever'].sum().reset_index()\n",
    "#Se encuentra el índice del máximo de horas jugadas para cada género\n",
    "idx = df_grouped.groupby('genres')['playtime_forever'].idxmax()\n",
    "#Se filtra df_grouped usando los índices encontrados\n",
    "df_max_year_per_genre = df_grouped.loc[idx]\n"
   ]
  },
  {
   "cell_type": "code",
   "execution_count": null,
   "metadata": {},
   "outputs": [],
   "source": [
    "#Se crea un dataframe solo con las columnas necesarias para nuestra consulta y se guarda para su posterior uso\n",
    "df_function_PlayTimeGenre=df_max_year_per_genre[['genres','release_year']]\n",
    "df_function_PlayTimeGenre.to_parquet('processed_data/play_time_genre.parquet')\n"
   ]
  },
  {
   "cell_type": "markdown",
   "metadata": {},
   "source": [
    "Preparacion de dataset para la funcion UserForGenre"
   ]
  },
  {
   "cell_type": "code",
   "execution_count": 7,
   "metadata": {},
   "outputs": [],
   "source": [
    "#Se crean dataframes solo con las columnas que vamos a utilizar\n",
    "df_games=df_games_complete[['genres','release_year','id']]\n",
    "df_items=df_items_complete[['user_id','item_id','playtime_forever']]"
   ]
  },
  {
   "cell_type": "code",
   "execution_count": 8,
   "metadata": {},
   "outputs": [],
   "source": [
    "#Se realiza un explode de los generos\n",
    "df_games=df_games.explode('genres',ignore_index=False,)\n",
    "\n",
    "#Se hace un join entre df_games y df_items usando 'id' y 'item_id'\n",
    "df_games['id'] = df_games['id'].astype(int)\n",
    "df_items['item_id'] = df_items['item_id'].astype(int)\n",
    "df_joined = pd.merge(df_games, df_items, left_on='id', right_on='item_id', how='inner')\n",
    "\n",
    "#Se agrupa por género, usuario y año, sumando las horas jugadas\n",
    "df_grouped = df_joined.groupby(['genres','user_id', 'release_year'])['playtime_forever'].sum().reset_index()\n",
    "\n",
    "#Se calcula el total de horas jugadas por usuario y genero\n",
    "df_total_hours = df_grouped.groupby(['genres', 'user_id'])['playtime_forever'].sum().reset_index()\n",
    "\n",
    "#Se busca al usuario con mas horas jugadas por genero\n",
    "idx = df_total_hours.groupby('genres')['playtime_forever'].idxmax()\n",
    "df_user_max_hours = df_total_hours.loc[idx]\n",
    "\n",
    "#Se filtra el dataframe completo para obtener los registros del usuario con mas horas jugadas para cada genero\n",
    "df_max_user_per_genre = pd.merge(df_joined, df_user_max_hours[['genres', 'user_id']], on=['genres', 'user_id'], how='inner')\n",
    "\n",
    "#Se agrupa por género, usuario y año el dataframe filtrado , sumando las horas jugadas\n",
    "df_max_user_per_genre=df_max_user_per_genre.groupby(['genres','user_id','release_year'])['playtime_forever'].sum().reset_index()\n"
   ]
  },
  {
   "cell_type": "code",
   "execution_count": null,
   "metadata": {},
   "outputs": [],
   "source": [
    "#Se crea un dataframe solo con las columnas necesarias para nuestra consulta y se guarda para su posterior uso\n",
    "df_function_UserForGenre=df_max_user_per_genre[['genres','release_year','user_id','playtime_forever']]\n",
    "df_function_UserForGenre.to_parquet('processed_data/user_for_genre.parquet')"
   ]
  },
  {
   "cell_type": "markdown",
   "metadata": {},
   "source": [
    "Preparacion de dataset games para utilizar en los endpoints UsersWorstDeveloper, sentiment_analysis y recomendacion_juego"
   ]
  },
  {
   "cell_type": "code",
   "execution_count": 10,
   "metadata": {},
   "outputs": [],
   "source": [
    "#Se crea el dataframe solo con las columnas que se van a utilizar y se guarda en formato parquet para su posterior uso.\n",
    "df_games=df_games_complete[['id','app_name','developer']]\n",
    "df_games.to_parquet('processed_data/games_endpoints.parquet')"
   ]
  }
 ],
 "metadata": {
  "kernelspec": {
   "display_name": "PI_MLOps",
   "language": "python",
   "name": "python3"
  },
  "language_info": {
   "codemirror_mode": {
    "name": "ipython",
    "version": 3
   },
   "file_extension": ".py",
   "mimetype": "text/x-python",
   "name": "python",
   "nbconvert_exporter": "python",
   "pygments_lexer": "ipython3",
   "version": "3.11.6"
  }
 },
 "nbformat": 4,
 "nbformat_minor": 2
}
