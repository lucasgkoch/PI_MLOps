{
 "cells": [
  {
   "cell_type": "code",
   "execution_count": 1,
   "metadata": {},
   "outputs": [],
   "source": [
    "import pandas as pd\n",
    "import ast\n",
    "from html import unescape\n",
    "import matplotlib.pyplot as plt"
   ]
  },
  {
   "cell_type": "markdown",
   "metadata": {},
   "source": [
    "Se carga el archivo previamente procesado en ETL_EDA_inicial"
   ]
  },
  {
   "cell_type": "code",
   "execution_count": 8,
   "metadata": {},
   "outputs": [
    {
     "data": {
      "text/html": [
       "<div>\n",
       "<style scoped>\n",
       "    .dataframe tbody tr th:only-of-type {\n",
       "        vertical-align: middle;\n",
       "    }\n",
       "\n",
       "    .dataframe tbody tr th {\n",
       "        vertical-align: top;\n",
       "    }\n",
       "\n",
       "    .dataframe thead th {\n",
       "        text-align: right;\n",
       "    }\n",
       "</style>\n",
       "<table border=\"1\" class=\"dataframe\">\n",
       "  <thead>\n",
       "    <tr style=\"text-align: right;\">\n",
       "      <th></th>\n",
       "      <th>publisher</th>\n",
       "      <th>genres</th>\n",
       "      <th>app_name</th>\n",
       "      <th>title</th>\n",
       "      <th>url</th>\n",
       "      <th>release_date</th>\n",
       "      <th>tags</th>\n",
       "      <th>reviews_url</th>\n",
       "      <th>specs</th>\n",
       "      <th>price</th>\n",
       "      <th>early_access</th>\n",
       "      <th>id</th>\n",
       "      <th>developer</th>\n",
       "    </tr>\n",
       "  </thead>\n",
       "  <tbody>\n",
       "    <tr>\n",
       "      <th>0</th>\n",
       "      <td>Kotoshiro</td>\n",
       "      <td>['Action', 'Casual', 'Indie', 'Simulation', 'S...</td>\n",
       "      <td>Lost Summoner Kitty</td>\n",
       "      <td>Lost Summoner Kitty</td>\n",
       "      <td>http://store.steampowered.com/app/761140/Lost_...</td>\n",
       "      <td>2018-01-04</td>\n",
       "      <td>['Strategy', 'Action', 'Indie', 'Casual', 'Sim...</td>\n",
       "      <td>http://steamcommunity.com/app/761140/reviews/?...</td>\n",
       "      <td>['Single-player']</td>\n",
       "      <td>4.99</td>\n",
       "      <td>0.0</td>\n",
       "      <td>761140.0</td>\n",
       "      <td>Kotoshiro</td>\n",
       "    </tr>\n",
       "    <tr>\n",
       "      <th>1</th>\n",
       "      <td>Making Fun, Inc.</td>\n",
       "      <td>['Free to Play', 'Indie', 'RPG', 'Strategy']</td>\n",
       "      <td>Ironbound</td>\n",
       "      <td>Ironbound</td>\n",
       "      <td>http://store.steampowered.com/app/643980/Ironb...</td>\n",
       "      <td>2018-01-04</td>\n",
       "      <td>['Free to Play', 'Strategy', 'Indie', 'RPG', '...</td>\n",
       "      <td>http://steamcommunity.com/app/643980/reviews/?...</td>\n",
       "      <td>['Single-player', 'Multi-player', 'Online Mult...</td>\n",
       "      <td>Free To Play</td>\n",
       "      <td>0.0</td>\n",
       "      <td>643980.0</td>\n",
       "      <td>Secret Level SRL</td>\n",
       "    </tr>\n",
       "    <tr>\n",
       "      <th>2</th>\n",
       "      <td>Poolians.com</td>\n",
       "      <td>['Casual', 'Free to Play', 'Indie', 'Simulatio...</td>\n",
       "      <td>Real Pool 3D - Poolians</td>\n",
       "      <td>Real Pool 3D - Poolians</td>\n",
       "      <td>http://store.steampowered.com/app/670290/Real_...</td>\n",
       "      <td>2017-07-24</td>\n",
       "      <td>['Free to Play', 'Simulation', 'Sports', 'Casu...</td>\n",
       "      <td>http://steamcommunity.com/app/670290/reviews/?...</td>\n",
       "      <td>['Single-player', 'Multi-player', 'Online Mult...</td>\n",
       "      <td>Free to Play</td>\n",
       "      <td>0.0</td>\n",
       "      <td>670290.0</td>\n",
       "      <td>Poolians.com</td>\n",
       "    </tr>\n",
       "    <tr>\n",
       "      <th>3</th>\n",
       "      <td>彼岸领域</td>\n",
       "      <td>['Action', 'Adventure', 'Casual']</td>\n",
       "      <td>弹炸人2222</td>\n",
       "      <td>弹炸人2222</td>\n",
       "      <td>http://store.steampowered.com/app/767400/2222/</td>\n",
       "      <td>2017-12-07</td>\n",
       "      <td>['Action', 'Adventure', 'Casual']</td>\n",
       "      <td>http://steamcommunity.com/app/767400/reviews/?...</td>\n",
       "      <td>['Single-player']</td>\n",
       "      <td>0.99</td>\n",
       "      <td>0.0</td>\n",
       "      <td>767400.0</td>\n",
       "      <td>彼岸领域</td>\n",
       "    </tr>\n",
       "    <tr>\n",
       "      <th>4</th>\n",
       "      <td>NaN</td>\n",
       "      <td>NaN</td>\n",
       "      <td>Log Challenge</td>\n",
       "      <td>NaN</td>\n",
       "      <td>http://store.steampowered.com/app/773570/Log_C...</td>\n",
       "      <td>NaN</td>\n",
       "      <td>['Action', 'Indie', 'Casual', 'Sports']</td>\n",
       "      <td>http://steamcommunity.com/app/773570/reviews/?...</td>\n",
       "      <td>['Single-player', 'Full controller support', '...</td>\n",
       "      <td>2.99</td>\n",
       "      <td>0.0</td>\n",
       "      <td>773570.0</td>\n",
       "      <td>NaN</td>\n",
       "    </tr>\n",
       "  </tbody>\n",
       "</table>\n",
       "</div>"
      ],
      "text/plain": [
       "          publisher                                             genres  \\\n",
       "0         Kotoshiro  ['Action', 'Casual', 'Indie', 'Simulation', 'S...   \n",
       "1  Making Fun, Inc.       ['Free to Play', 'Indie', 'RPG', 'Strategy']   \n",
       "2      Poolians.com  ['Casual', 'Free to Play', 'Indie', 'Simulatio...   \n",
       "3              彼岸领域                  ['Action', 'Adventure', 'Casual']   \n",
       "4               NaN                                                NaN   \n",
       "\n",
       "                  app_name                    title  \\\n",
       "0      Lost Summoner Kitty      Lost Summoner Kitty   \n",
       "1                Ironbound                Ironbound   \n",
       "2  Real Pool 3D - Poolians  Real Pool 3D - Poolians   \n",
       "3                  弹炸人2222                  弹炸人2222   \n",
       "4            Log Challenge                      NaN   \n",
       "\n",
       "                                                 url release_date  \\\n",
       "0  http://store.steampowered.com/app/761140/Lost_...   2018-01-04   \n",
       "1  http://store.steampowered.com/app/643980/Ironb...   2018-01-04   \n",
       "2  http://store.steampowered.com/app/670290/Real_...   2017-07-24   \n",
       "3     http://store.steampowered.com/app/767400/2222/   2017-12-07   \n",
       "4  http://store.steampowered.com/app/773570/Log_C...          NaN   \n",
       "\n",
       "                                                tags  \\\n",
       "0  ['Strategy', 'Action', 'Indie', 'Casual', 'Sim...   \n",
       "1  ['Free to Play', 'Strategy', 'Indie', 'RPG', '...   \n",
       "2  ['Free to Play', 'Simulation', 'Sports', 'Casu...   \n",
       "3                  ['Action', 'Adventure', 'Casual']   \n",
       "4            ['Action', 'Indie', 'Casual', 'Sports']   \n",
       "\n",
       "                                         reviews_url  \\\n",
       "0  http://steamcommunity.com/app/761140/reviews/?...   \n",
       "1  http://steamcommunity.com/app/643980/reviews/?...   \n",
       "2  http://steamcommunity.com/app/670290/reviews/?...   \n",
       "3  http://steamcommunity.com/app/767400/reviews/?...   \n",
       "4  http://steamcommunity.com/app/773570/reviews/?...   \n",
       "\n",
       "                                               specs         price  \\\n",
       "0                                  ['Single-player']          4.99   \n",
       "1  ['Single-player', 'Multi-player', 'Online Mult...  Free To Play   \n",
       "2  ['Single-player', 'Multi-player', 'Online Mult...  Free to Play   \n",
       "3                                  ['Single-player']          0.99   \n",
       "4  ['Single-player', 'Full controller support', '...          2.99   \n",
       "\n",
       "   early_access        id         developer  \n",
       "0           0.0  761140.0         Kotoshiro  \n",
       "1           0.0  643980.0  Secret Level SRL  \n",
       "2           0.0  670290.0      Poolians.com  \n",
       "3           0.0  767400.0              彼岸领域  \n",
       "4           0.0  773570.0               NaN  "
      ]
     },
     "execution_count": 8,
     "metadata": {},
     "output_type": "execute_result"
    }
   ],
   "source": [
    "df_games=pd.read_csv('processed_data/steam_games.csv')\n",
    "df_games.head()"
   ]
  },
  {
   "cell_type": "markdown",
   "metadata": {},
   "source": [
    "<h3>Consideramos muy relevante para nuestros analisis la columna genres de esta tabla, por lo que vamos a analizarla en profundidad<h3\\>"
   ]
  },
  {
   "cell_type": "markdown",
   "metadata": {},
   "source": [
    "Se observa que el tipo de dato de la columna genres (asi como la columna tags y specs) se encuentran en formato string."
   ]
  },
  {
   "cell_type": "code",
   "execution_count": 7,
   "metadata": {},
   "outputs": [
    {
     "data": {
      "text/plain": [
       "publisher        object\n",
       "genres           object\n",
       "app_name         object\n",
       "title            object\n",
       "url              object\n",
       "release_date     object\n",
       "tags             object\n",
       "reviews_url      object\n",
       "specs            object\n",
       "price            object\n",
       "early_access    float64\n",
       "id              float64\n",
       "developer        object\n",
       "dtype: object"
      ]
     },
     "execution_count": 7,
     "metadata": {},
     "output_type": "execute_result"
    }
   ],
   "source": [
    "df_games.dtypes"
   ]
  },
  {
   "cell_type": "code",
   "execution_count": 9,
   "metadata": {},
   "outputs": [],
   "source": [
    "#Se corrigen problemas de codificacion en la columna genres (el caracter '&' aparece como '&amp;')\n",
    "df_games['genres'] = df_games['genres'].apply(lambda x: unescape(x) if isinstance(x, str) else x)\n"
   ]
  },
  {
   "cell_type": "code",
   "execution_count": 10,
   "metadata": {},
   "outputs": [],
   "source": [
    "#Se normaliza las columnas genres, tags y specs convirtiendo su contenido (actualmente en formato string) en una lista\n",
    "df_games['genres'] = df_games['genres'].apply(lambda x: ast.literal_eval(x) if pd.notna(x) else x)\n",
    "df_games['tags'] = df_games['tags'].apply(lambda x: ast.literal_eval(x) if pd.notna(x) else x)\n",
    "df_games['specs'] = df_games['specs'].apply(lambda x: ast.literal_eval(x) if pd.notna(x) else x)"
   ]
  },
  {
   "cell_type": "markdown",
   "metadata": {},
   "source": [
    "Se crea una lista de generos unicos para poder observarlos mejor"
   ]
  },
  {
   "cell_type": "code",
   "execution_count": 11,
   "metadata": {},
   "outputs": [
    {
     "data": {
      "text/plain": [
       "array(['Action', 'Casual', 'Indie', 'Simulation', 'Strategy',\n",
       "       'Free to Play', 'RPG', 'Sports', 'Adventure', nan, 'Racing',\n",
       "       'Early Access', 'Massively Multiplayer', 'Animation & Modeling',\n",
       "       'Video Production', 'Utilities', 'Web Publishing', 'Education',\n",
       "       'Software Training', 'Design & Illustration', 'Audio Production',\n",
       "       'Photo Editing', 'Accounting'], dtype=object)"
      ]
     },
     "execution_count": 11,
     "metadata": {},
     "output_type": "execute_result"
    }
   ],
   "source": [
    "#Se crea la lista de generos unicos\n",
    "unique_genres = df_games['genres'].explode().unique()\n",
    "unique_genres"
   ]
  },
  {
   "cell_type": "markdown",
   "metadata": {},
   "source": [
    "Se observa que mas de 3000 registros tienen vacio el campo 'genres'. para no desecharlos, se opta por la idea de crear una lista de generos unicos basada en los demas titulos y buscar para cada registro si existe algun genero de la lista en el campo 'tags'. de esta manera se puede completar el campo 'genres' de una manera consistente."
   ]
  },
  {
   "cell_type": "code",
   "execution_count": 12,
   "metadata": {},
   "outputs": [
    {
     "data": {
      "text/plain": [
       "3283"
      ]
     },
     "execution_count": 12,
     "metadata": {},
     "output_type": "execute_result"
    }
   ],
   "source": [
    "df_games['genres'].isnull().sum()"
   ]
  },
  {
   "cell_type": "code",
   "execution_count": 13,
   "metadata": {},
   "outputs": [],
   "source": [
    "#Se identifican los registros con 'genres' vacio y, si hay coincidencia entre sus tags y algun genenro unico, se aplican esos tags en 'genres'\n",
    "for index, row in df_games[df_games['genres'].isnull()].iterrows():\n",
    "    tags = row['tags']\n",
    "    if isinstance(tags, list):\n",
    "        common_genres = set(tags).intersection(unique_genres)\n",
    "        if common_genres:\n",
    "            df_games.at[index, 'genres'] = list(common_genres)"
   ]
  },
  {
   "cell_type": "markdown",
   "metadata": {},
   "source": [
    "Se confrima que la cantidad de nulos en el campo genres se redujo enormemente. optamos por no eliminar esos registros ya que estariamos eliminando mucha informacion de otros campos. mas adelante, si es necesario para algun analisis puntual se eliminaran los registros que tengan el campo genres vacio."
   ]
  },
  {
   "cell_type": "code",
   "execution_count": 14,
   "metadata": {},
   "outputs": [
    {
     "data": {
      "text/plain": [
       "publisher       8071\n",
       "genres           926\n",
       "app_name           2\n",
       "title           2050\n",
       "url                0\n",
       "release_date    2067\n",
       "tags             163\n",
       "reviews_url        2\n",
       "specs            670\n",
       "price           1377\n",
       "early_access       0\n",
       "id                 2\n",
       "developer       3299\n",
       "dtype: int64"
      ]
     },
     "execution_count": 14,
     "metadata": {},
     "output_type": "execute_result"
    }
   ],
   "source": [
    "df_games.isnull().sum()"
   ]
  },
  {
   "cell_type": "code",
   "execution_count": 15,
   "metadata": {},
   "outputs": [],
   "source": [
    "#Se eliminan los registros con id vacios ya que son pocos (2), lo que lo hace irrelevante para nuestro enfoque\n",
    "df_games = df_games.dropna(subset=['id'])\n",
    "#Se elimina el registros con app_name vacio ya que es irrelevante para nuestro enfoque\n",
    "df_games = df_games.dropna(subset=['app_name'])"
   ]
  },
  {
   "cell_type": "markdown",
   "metadata": {},
   "source": [
    "Se realiza un grafico de barras para visualizar estadisticamente la relevancia de cada genero."
   ]
  },
  {
   "cell_type": "code",
   "execution_count": 16,
   "metadata": {},
   "outputs": [
    {
     "data": {
      "image/png": "[encoded data removed]",
      "text/plain": [
       "<Figure size 1000x600 with 1 Axes>"
      ]
     },
     "metadata": {},
     "output_type": "display_data"
    }
   ],
   "source": [
    "\n",
    "frecuencia_generos = df_games['genres'].explode().value_counts()\n",
    "\n",
    "frecuencia_generos.plot(kind='bar', figsize=(10, 6))\n",
    "plt.title('Frecuencia de Géneros de Videojuegos')\n",
    "plt.xlabel('Género')\n",
    "plt.ylabel('Frecuencia')\n",
    "plt.show()"
   ]
  },
  {
   "cell_type": "markdown",
   "metadata": {},
   "source": [
    "Se observa que el campo 'release_date' contiene fechas en diferentes formatos. Normalizamos el formato y extraemos solo el año de cada fecha, ya que mes y dia no son informacion relevante para nuestros analisis. se crea una nueva columna llamada 'release_year'"
   ]
  },
  {
   "cell_type": "code",
   "execution_count": 17,
   "metadata": {},
   "outputs": [
    {
     "name": "stderr",
     "output_type": "stream",
     "text": [
      "C:\\Users\\PC\\AppData\\Local\\Temp\\ipykernel_18068\\3481045313.py:5: UserWarning: Parsing dates in %d.%m.%Y format when dayfirst=False (the default) was specified. Pass `dayfirst=True` or specify a format to silence this warning.\n",
      "  date = pd.to_datetime(item)\n"
     ]
    }
   ],
   "source": [
    "#Se crea una funcion para extraer el año de fechas y dejar los no fechas sin cambios\n",
    "def get_year(item):\n",
    "    try:\n",
    "        #Se intenta convertir la fecha a un objeto de fecha de pandas\n",
    "        date = pd.to_datetime(item)\n",
    "        return date.year\n",
    "    except (ValueError, TypeError):\n",
    "       #Si hay un error, se intenta extraer el año de otros formatos\n",
    "        if isinstance(item, str):\n",
    "            #Se busca un año de cuatro dígitos en el formato 'XXXX'\n",
    "            anio_encontrado = [int(s) for s in item.split() if s.isdigit() and len(s) == 4]\n",
    "            if anio_encontrado:\n",
    "                return anio_encontrado[0]\n",
    "\n",
    "    #Si no se puede extraer ningun año, devuelve NaN (se utiliza pd.NaT para un correcto manejo de los valores nulos. no se obtuvo el resultado esperado utilizando np.nan).\n",
    "    return pd.NaT\n",
    "\n",
    "# Aplicar la función a la columna 'release_date' creando una nueva 'release_year'\n",
    "df_games['release_year']=df_games['release_date'].apply(get_year)\n",
    "\n"
   ]
  },
  {
   "cell_type": "markdown",
   "metadata": {},
   "source": [
    "Eliminamos las columnas que no seran necesarias en ninguna parte de nuestro proyecto\n",
    "<img src=\"assets/analisis_campos_necesarios_games.png\">\n"
   ]
  },
  {
   "cell_type": "code",
   "execution_count": 18,
   "metadata": {},
   "outputs": [],
   "source": [
    "#Se eliminan columnas que no son relevantes para nuestro objetivo\n",
    "df_games.drop(columns=['publisher','title','url','reviews_url','price','early_access', 'release_date'],inplace=True)"
   ]
  },
  {
   "cell_type": "code",
   "execution_count": 19,
   "metadata": {},
   "outputs": [],
   "source": [
    "#Se guarda el dataset en formato parquet\n",
    "df_games.to_parquet('processed_data/games.parquet',index=False)"
   ]
  }
 ],
 "metadata": {
  "kernelspec": {
   "display_name": "Python 3",
   "language": "python",
   "name": "python3"
  },
  "language_info": {
   "codemirror_mode": {
    "name": "ipython",
    "version": 3
   },
   "file_extension": ".py",
   "mimetype": "text/x-python",
   "name": "python",
   "nbconvert_exporter": "python",
   "pygments_lexer": "ipython3",
   "version": "3.11.6"
  }
 },
 "nbformat": 4,
 "nbformat_minor": 2
}
