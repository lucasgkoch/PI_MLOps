{
 "cells": [
  {
   "cell_type": "markdown",
   "metadata": {},
   "source": [
    "En este archivo aplicaremos un modelo de recomendacion basado en la similitud del coseno. Esta funcion esta asociada a un endpoint de nuestra api, pero debido a las limitaciones de memoria en el servidor, realizaremos este proceso localmente y crearemos un dataset especifico para realizar consultas en nuestro endpoint."
   ]
  },
  {
   "cell_type": "code",
   "execution_count": 1,
   "metadata": {},
   "outputs": [],
   "source": [
    "import pandas as pd\n",
    "from sklearn.feature_extraction.text import CountVectorizer\n",
    "from sklearn.metrics.pairwise import cosine_similarity"
   ]
  },
  {
   "cell_type": "code",
   "execution_count": 8,
   "metadata": {},
   "outputs": [],
   "source": [
    "df_games_complete=pd.read_parquet('processed_data/games.parquet')\n",
    "df_games=df_games_complete[['id','genres','app_name','specs']]"
   ]
  },
  {
   "cell_type": "code",
   "execution_count": null,
   "metadata": {},
   "outputs": [],
   "source": [
    "#Se rellenan valores nulos en la columna 'genres'\n",
    "df_games['genres'].fillna(value='', inplace=True)\n",
    "#Se crea una nueva columna 'genres_str' que contenga las listas de géneros como strings\n",
    "df_games['genres_str'] = df_games['genres'].apply(lambda x: ' '.join(map(str, x)))\n",
    "\n",
    "#Se rellenan valores nulos en la columna 'specs'\n",
    "df_games['specs'].fillna(value='', inplace=True)\n",
    "#Se crea una nueva columna 'specs_str' que contenga las listas de géneros como strings\n",
    "df_games['specs_str'] = df_games['specs'].apply(lambda x: ' '.join(map(str, x)))\n",
    "\n",
    "#Se crea una nueva columna combinando generos y specs\n",
    "df_games['genres_specs_str'] = df_games['genres_str'] + ' ' + df_games['specs_str']"
   ]
  },
  {
   "cell_type": "code",
   "execution_count": 14,
   "metadata": {},
   "outputs": [
    {
     "data": {
      "text/html": [
       "<div>\n",
       "<style scoped>\n",
       "    .dataframe tbody tr th:only-of-type {\n",
       "        vertical-align: middle;\n",
       "    }\n",
       "\n",
       "    .dataframe tbody tr th {\n",
       "        vertical-align: top;\n",
       "    }\n",
       "\n",
       "    .dataframe thead th {\n",
       "        text-align: right;\n",
       "    }\n",
       "</style>\n",
       "<table border=\"1\" class=\"dataframe\">\n",
       "  <thead>\n",
       "    <tr style=\"text-align: right;\">\n",
       "      <th></th>\n",
       "      <th>id</th>\n",
       "      <th>genres</th>\n",
       "      <th>app_name</th>\n",
       "      <th>specs</th>\n",
       "      <th>genres_str</th>\n",
       "      <th>specs_str</th>\n",
       "      <th>genres_specs_str</th>\n",
       "    </tr>\n",
       "  </thead>\n",
       "  <tbody>\n",
       "    <tr>\n",
       "      <th>0</th>\n",
       "      <td>761140.0</td>\n",
       "      <td>[Action, Casual, Indie, Simulation, Strategy]</td>\n",
       "      <td>Lost Summoner Kitty</td>\n",
       "      <td>[Single-player]</td>\n",
       "      <td>Action Casual Indie Simulation Strategy</td>\n",
       "      <td>Single-player</td>\n",
       "      <td>Action Casual Indie Simulation Strategy Single...</td>\n",
       "    </tr>\n",
       "    <tr>\n",
       "      <th>1</th>\n",
       "      <td>643980.0</td>\n",
       "      <td>[Free to Play, Indie, RPG, Strategy]</td>\n",
       "      <td>Ironbound</td>\n",
       "      <td>[Single-player, Multi-player, Online Multi-Pla...</td>\n",
       "      <td>Free to Play Indie RPG Strategy</td>\n",
       "      <td>Single-player Multi-player Online Multi-Player...</td>\n",
       "      <td>Free to Play Indie RPG Strategy Single-player ...</td>\n",
       "    </tr>\n",
       "    <tr>\n",
       "      <th>2</th>\n",
       "      <td>670290.0</td>\n",
       "      <td>[Casual, Free to Play, Indie, Simulation, Sports]</td>\n",
       "      <td>Real Pool 3D - Poolians</td>\n",
       "      <td>[Single-player, Multi-player, Online Multi-Pla...</td>\n",
       "      <td>Casual Free to Play Indie Simulation Sports</td>\n",
       "      <td>Single-player Multi-player Online Multi-Player...</td>\n",
       "      <td>Casual Free to Play Indie Simulation Sports Si...</td>\n",
       "    </tr>\n",
       "    <tr>\n",
       "      <th>3</th>\n",
       "      <td>767400.0</td>\n",
       "      <td>[Action, Adventure, Casual]</td>\n",
       "      <td>弹炸人2222</td>\n",
       "      <td>[Single-player]</td>\n",
       "      <td>Action Adventure Casual</td>\n",
       "      <td>Single-player</td>\n",
       "      <td>Action Adventure Casual Single-player</td>\n",
       "    </tr>\n",
       "    <tr>\n",
       "      <th>4</th>\n",
       "      <td>773570.0</td>\n",
       "      <td>[Action, Casual, Indie, Sports]</td>\n",
       "      <td>Log Challenge</td>\n",
       "      <td>[Single-player, Full controller support, HTC V...</td>\n",
       "      <td>Action Casual Indie Sports</td>\n",
       "      <td>Single-player Full controller support HTC Vive...</td>\n",
       "      <td>Action Casual Indie Sports Single-player Full ...</td>\n",
       "    </tr>\n",
       "  </tbody>\n",
       "</table>\n",
       "</div>"
      ],
      "text/plain": [
       "         id                                             genres  \\\n",
       "0  761140.0      [Action, Casual, Indie, Simulation, Strategy]   \n",
       "1  643980.0               [Free to Play, Indie, RPG, Strategy]   \n",
       "2  670290.0  [Casual, Free to Play, Indie, Simulation, Sports]   \n",
       "3  767400.0                        [Action, Adventure, Casual]   \n",
       "4  773570.0                    [Action, Casual, Indie, Sports]   \n",
       "\n",
       "                  app_name                                              specs  \\\n",
       "0      Lost Summoner Kitty                                    [Single-player]   \n",
       "1                Ironbound  [Single-player, Multi-player, Online Multi-Pla...   \n",
       "2  Real Pool 3D - Poolians  [Single-player, Multi-player, Online Multi-Pla...   \n",
       "3                  弹炸人2222                                    [Single-player]   \n",
       "4            Log Challenge  [Single-player, Full controller support, HTC V...   \n",
       "\n",
       "                                    genres_str  \\\n",
       "0      Action Casual Indie Simulation Strategy   \n",
       "1              Free to Play Indie RPG Strategy   \n",
       "2  Casual Free to Play Indie Simulation Sports   \n",
       "3                      Action Adventure Casual   \n",
       "4                   Action Casual Indie Sports   \n",
       "\n",
       "                                           specs_str  \\\n",
       "0                                      Single-player   \n",
       "1  Single-player Multi-player Online Multi-Player...   \n",
       "2  Single-player Multi-player Online Multi-Player...   \n",
       "3                                      Single-player   \n",
       "4  Single-player Full controller support HTC Vive...   \n",
       "\n",
       "                                    genres_specs_str  \n",
       "0  Action Casual Indie Simulation Strategy Single...  \n",
       "1  Free to Play Indie RPG Strategy Single-player ...  \n",
       "2  Casual Free to Play Indie Simulation Sports Si...  \n",
       "3              Action Adventure Casual Single-player  \n",
       "4  Action Casual Indie Sports Single-player Full ...  "
      ]
     },
     "execution_count": 14,
     "metadata": {},
     "output_type": "execute_result"
    }
   ],
   "source": [
    "df_games.head()"
   ]
  },
  {
   "cell_type": "code",
   "execution_count": 16,
   "metadata": {},
   "outputs": [
    {
     "data": {
      "text/html": [
       "<div>\n",
       "<style scoped>\n",
       "    .dataframe tbody tr th:only-of-type {\n",
       "        vertical-align: middle;\n",
       "    }\n",
       "\n",
       "    .dataframe tbody tr th {\n",
       "        vertical-align: top;\n",
       "    }\n",
       "\n",
       "    .dataframe thead th {\n",
       "        text-align: right;\n",
       "    }\n",
       "</style>\n",
       "<table border=\"1\" class=\"dataframe\">\n",
       "  <thead>\n",
       "    <tr style=\"text-align: right;\">\n",
       "      <th></th>\n",
       "      <th>id</th>\n",
       "      <th>app_name</th>\n",
       "      <th>genres_specs_str</th>\n",
       "    </tr>\n",
       "  </thead>\n",
       "  <tbody>\n",
       "    <tr>\n",
       "      <th>0</th>\n",
       "      <td>761140.0</td>\n",
       "      <td>Lost Summoner Kitty</td>\n",
       "      <td>Action Casual Indie Simulation Strategy Single...</td>\n",
       "    </tr>\n",
       "    <tr>\n",
       "      <th>1</th>\n",
       "      <td>643980.0</td>\n",
       "      <td>Ironbound</td>\n",
       "      <td>Free to Play Indie RPG Strategy Single-player ...</td>\n",
       "    </tr>\n",
       "    <tr>\n",
       "      <th>2</th>\n",
       "      <td>670290.0</td>\n",
       "      <td>Real Pool 3D - Poolians</td>\n",
       "      <td>Casual Free to Play Indie Simulation Sports Si...</td>\n",
       "    </tr>\n",
       "    <tr>\n",
       "      <th>3</th>\n",
       "      <td>767400.0</td>\n",
       "      <td>弹炸人2222</td>\n",
       "      <td>Action Adventure Casual Single-player</td>\n",
       "    </tr>\n",
       "    <tr>\n",
       "      <th>4</th>\n",
       "      <td>773570.0</td>\n",
       "      <td>Log Challenge</td>\n",
       "      <td>Action Casual Indie Sports Single-player Full ...</td>\n",
       "    </tr>\n",
       "  </tbody>\n",
       "</table>\n",
       "</div>"
      ],
      "text/plain": [
       "         id                 app_name  \\\n",
       "0  761140.0      Lost Summoner Kitty   \n",
       "1  643980.0                Ironbound   \n",
       "2  670290.0  Real Pool 3D - Poolians   \n",
       "3  767400.0                  弹炸人2222   \n",
       "4  773570.0            Log Challenge   \n",
       "\n",
       "                                    genres_specs_str  \n",
       "0  Action Casual Indie Simulation Strategy Single...  \n",
       "1  Free to Play Indie RPG Strategy Single-player ...  \n",
       "2  Casual Free to Play Indie Simulation Sports Si...  \n",
       "3              Action Adventure Casual Single-player  \n",
       "4  Action Casual Indie Sports Single-player Full ...  "
      ]
     },
     "execution_count": 16,
     "metadata": {},
     "output_type": "execute_result"
    }
   ],
   "source": [
    "#Se eliminan las columnas que ya no vamos a utilizar\n",
    "df_games.drop(columns=['genres','specs','genres_str','specs_str'],inplace=True)\n",
    "df_games.head()"
   ]
  },
  {
   "cell_type": "code",
   "execution_count": 12,
   "metadata": {},
   "outputs": [],
   "source": [
    "#Se crea el objeto CountVectorizer\n",
    "vectorizer = CountVectorizer(binary=True)\n",
    "\n",
    "#Se crea la matriz de términos-documentos\n",
    "genres_matrix = vectorizer.fit_transform(df_games['genres_specs_str']).toarray()\n"
   ]
  },
  {
   "cell_type": "code",
   "execution_count": 13,
   "metadata": {},
   "outputs": [
    {
     "data": {
      "text/plain": [
       "array([[0, 0, 0, ..., 0, 0, 0],\n",
       "       [0, 0, 1, ..., 0, 0, 0],\n",
       "       [0, 0, 0, ..., 0, 0, 0],\n",
       "       ...,\n",
       "       [0, 0, 1, ..., 0, 0, 0],\n",
       "       [0, 0, 1, ..., 0, 0, 0],\n",
       "       [1, 0, 0, ..., 0, 0, 0]], dtype=int64)"
      ]
     },
     "execution_count": 13,
     "metadata": {},
     "output_type": "execute_result"
    }
   ],
   "source": [
    "genres_matrix"
   ]
  },
  {
   "cell_type": "code",
   "execution_count": 17,
   "metadata": {},
   "outputs": [],
   "source": [
    "#Se calcula la similitud del coseno entre los juegos\n",
    "cosine_similarities = cosine_similarity(genres_matrix, genres_matrix)\n"
   ]
  },
  {
   "cell_type": "code",
   "execution_count": 18,
   "metadata": {},
   "outputs": [],
   "source": [
    "#Se crea la funcion que devuelve las 5 recomendaciones de juego basandose en la similitud del coseno\n",
    "def recommend(product_id):\n",
    "\n",
    "    \n",
    "    n=5\n",
    "    #Se comprueba que ele id ingresado este en el dataframe\n",
    "    if product_id not in df_games['id'].values:\n",
    "        return \"Juego no encontrado en la base de datos\"\n",
    "\n",
    "    #Se obtiene el índice del juego con el id proporcionado\n",
    "    idx = df_games[df_games['id'] == product_id].index[0]\n",
    "\n",
    "    #Se obtienen las puntuaciones de similitud del coseno para ese juego con respecto a todos los demás\n",
    "    sim_scores = list(enumerate(cosine_similarities[idx]))\n",
    "\n",
    "    #Se ordenan los juegos según sus puntuaciones de similitud\n",
    "    sim_scores = sorted(sim_scores, key=lambda x: x[1], reverse=True)\n",
    "\n",
    "    #Se obtienen los índices de los juegos recomendados\n",
    "    sim_scores = sim_scores[1:n+1]  # Excluyendo el propio juego\n",
    "    game_indices = [i[0] for i in sim_scores]\n",
    "\n",
    "    #Devuelve la lista de juegos recomendados\n",
    "    return df_games['app_name'].iloc[game_indices].tolist()\n",
    "\n"
   ]
  },
  {
   "cell_type": "markdown",
   "metadata": {},
   "source": [
    "Dado que las limitaciones de memoria del sitio utilizado para hacer el deploy no me permiten realizar este proceso, se realiza en local y se crea una nueva columna con las recomendaciones."
   ]
  },
  {
   "cell_type": "code",
   "execution_count": 19,
   "metadata": {},
   "outputs": [],
   "source": [
    "#Se aplica la funcion a cada registro del dataframe y se guarda el resultado en una nueva columna\n",
    "df_games['recommended_5'] = df_games['id'].apply(recommend)"
   ]
  },
  {
   "cell_type": "code",
   "execution_count": 20,
   "metadata": {},
   "outputs": [
    {
     "data": {
      "text/html": [
       "<div>\n",
       "<style scoped>\n",
       "    .dataframe tbody tr th:only-of-type {\n",
       "        vertical-align: middle;\n",
       "    }\n",
       "\n",
       "    .dataframe tbody tr th {\n",
       "        vertical-align: top;\n",
       "    }\n",
       "\n",
       "    .dataframe thead th {\n",
       "        text-align: right;\n",
       "    }\n",
       "</style>\n",
       "<table border=\"1\" class=\"dataframe\">\n",
       "  <thead>\n",
       "    <tr style=\"text-align: right;\">\n",
       "      <th></th>\n",
       "      <th>id</th>\n",
       "      <th>app_name</th>\n",
       "      <th>genres_specs_str</th>\n",
       "      <th>recommended_5</th>\n",
       "    </tr>\n",
       "  </thead>\n",
       "  <tbody>\n",
       "    <tr>\n",
       "      <th>0</th>\n",
       "      <td>761140.0</td>\n",
       "      <td>Lost Summoner Kitty</td>\n",
       "      <td>Action Casual Indie Simulation Strategy Single...</td>\n",
       "      <td>[Wooden Battles, Bubonic: Outbreak, YOU ARE KI...</td>\n",
       "    </tr>\n",
       "    <tr>\n",
       "      <th>1</th>\n",
       "      <td>643980.0</td>\n",
       "      <td>Ironbound</td>\n",
       "      <td>Free to Play Indie RPG Strategy Single-player ...</td>\n",
       "      <td>[Duelyst, Animation Throwdown: The Quest for C...</td>\n",
       "    </tr>\n",
       "    <tr>\n",
       "      <th>2</th>\n",
       "      <td>670290.0</td>\n",
       "      <td>Real Pool 3D - Poolians</td>\n",
       "      <td>Casual Free to Play Indie Simulation Sports Si...</td>\n",
       "      <td>[Snooker-online multiplayer snooker game!, Her...</td>\n",
       "    </tr>\n",
       "    <tr>\n",
       "      <th>3</th>\n",
       "      <td>767400.0</td>\n",
       "      <td>弹炸人2222</td>\n",
       "      <td>Action Adventure Casual Single-player</td>\n",
       "      <td>[Biozone, Luxor: 5th Passage, CHASER, Turtle O...</td>\n",
       "    </tr>\n",
       "    <tr>\n",
       "      <th>4</th>\n",
       "      <td>773570.0</td>\n",
       "      <td>Log Challenge</td>\n",
       "      <td>Action Casual Indie Sports Single-player Full ...</td>\n",
       "      <td>[Wingless, Caretaker Retribution, Fall Fear Fl...</td>\n",
       "    </tr>\n",
       "  </tbody>\n",
       "</table>\n",
       "</div>"
      ],
      "text/plain": [
       "         id                 app_name  \\\n",
       "0  761140.0      Lost Summoner Kitty   \n",
       "1  643980.0                Ironbound   \n",
       "2  670290.0  Real Pool 3D - Poolians   \n",
       "3  767400.0                  弹炸人2222   \n",
       "4  773570.0            Log Challenge   \n",
       "\n",
       "                                    genres_specs_str  \\\n",
       "0  Action Casual Indie Simulation Strategy Single...   \n",
       "1  Free to Play Indie RPG Strategy Single-player ...   \n",
       "2  Casual Free to Play Indie Simulation Sports Si...   \n",
       "3              Action Adventure Casual Single-player   \n",
       "4  Action Casual Indie Sports Single-player Full ...   \n",
       "\n",
       "                                       recommended_5  \n",
       "0  [Wooden Battles, Bubonic: Outbreak, YOU ARE KI...  \n",
       "1  [Duelyst, Animation Throwdown: The Quest for C...  \n",
       "2  [Snooker-online multiplayer snooker game!, Her...  \n",
       "3  [Biozone, Luxor: 5th Passage, CHASER, Turtle O...  \n",
       "4  [Wingless, Caretaker Retribution, Fall Fear Fl...  "
      ]
     },
     "execution_count": 20,
     "metadata": {},
     "output_type": "execute_result"
    }
   ],
   "source": [
    "df_games.head()"
   ]
  },
  {
   "cell_type": "markdown",
   "metadata": {},
   "source": [
    "Se guarda el dataframe con la nueva columna generada para utilizar en el endpoint de recomendacion"
   ]
  },
  {
   "cell_type": "code",
   "execution_count": 22,
   "metadata": {},
   "outputs": [],
   "source": [
    "#Se elimina la columnas que ya no son necesarias y se guarda el df con las recomendaciones.\n",
    "df_games.drop(columns=['genres_specs_str'],inplace=True)\n",
    "df_games.to_parquet('API/games_recommendations.parquet')"
   ]
  }
 ],
 "metadata": {
  "kernelspec": {
   "display_name": "PI_MLOps",
   "language": "python",
   "name": "python3"
  },
  "language_info": {
   "codemirror_mode": {
    "name": "ipython",
    "version": 3
   },
   "file_extension": ".py",
   "mimetype": "text/x-python",
   "name": "python",
   "nbconvert_exporter": "python",
   "pygments_lexer": "ipython3",
   "version": "3.11.6"
  }
 },
 "nbformat": 4,
 "nbformat_minor": 2
}
